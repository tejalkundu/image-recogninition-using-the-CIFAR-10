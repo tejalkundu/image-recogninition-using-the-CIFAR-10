{
  "cells": [
    {
      "cell_type": "code",
      "execution_count": 23,
      "metadata": {
        "id": "ymlYlhUmACTQ"
      },
      "outputs": [],
      "source": [
        "import tensorflow as tf\n",
        "from tensorflow.keras.datasets import cifar10\n",
        "from tensorflow.keras.models import Sequential\n",
        "from tensorflow.keras.layers import Conv2D, MaxPooling2D, Flatten, Dense, Dropout\n",
        "import matplotlib.pyplot as plt"
      ]
    },
    {
      "cell_type": "code",
      "execution_count": null,
      "metadata": {
        "id": "VjzYxTGMAEu0"
      },
      "outputs": [],
      "source": [
        "(x_train, y_train), (x_test, y_test) = cifar10.load_data()"
      ]
    },
    {
      "cell_type": "code",
      "execution_count": null,
      "metadata": {
        "id": "EUQRNe91ALQC"
      },
      "outputs": [],
      "source": [
        "x_train = x_train / 255.0\n",
        "x_test = x_test / 255.0"
      ]
    },
    {
      "cell_type": "code",
      "execution_count": null,
      "metadata": {
        "id": "1RqcLGalAOPS"
      },
      "outputs": [],
      "source": [
        "model = Sequential()"
      ]
    },
    {
      "cell_type": "code",
      "execution_count": null,
      "metadata": {
        "id": "vvWnEuhsAQ3n"
      },
      "outputs": [],
      "source": [
        "model.add(Conv2D(32, (3, 3), padding='same', activation='relu', input_shape=(32, 32, 3)))\n",
        "model.add(Conv2D(64, (3, 3), padding='same', activation='relu'))\n",
        "model.add(Conv2D(128, (3, 3), padding='same', activation='relu'))\n",
        "model.add(MaxPooling2D(pool_size=(2, 2)))\n",
        "model.add(Dropout(0.25))"
      ]
    },
    {
      "cell_type": "code",
      "execution_count": null,
      "metadata": {
        "id": "wTOd8_3TATSp"
      },
      "outputs": [],
      "source": [
        "model.add(Flatten())\n",
        "model.add(Dense(256, activation='relu'))\n",
        "model.add(Dropout(0.5))\n",
        "model.add(Dense(10, activation='softmax'))"
      ]
    },
    {
      "cell_type": "code",
      "execution_count": null,
      "metadata": {
        "id": "tjLSfg-KAWIb"
      },
      "outputs": [],
      "source": [
        "model.compile(optimizer='adam', loss='sparse_categorical_crossentropy', metrics=['accuracy'])"
      ]
    },
    {
      "cell_type": "code",
      "execution_count": null,
      "metadata": {
        "id": "M74UhqfRX96D"
      },
      "outputs": [],
      "source": []
    },
    {
      "cell_type": "code",
      "execution_count": null,
      "metadata": {
        "colab": {
          "background_save": true,
          "base_uri": "https://localhost:8080/"
        },
        "id": "lDIwPkmhAbD1",
        "outputId": "04dc8227-db34-4f97-d763-7abdefef8fa8"
      },
      "outputs": [
        {
          "name": "stdout",
          "output_type": "stream",
          "text": [
            "Epoch 1/10\n",
            "352/352 [==============================] - 757s 2s/step - loss: 1.6134 - accuracy: 0.4122 - val_loss: 1.2542 - val_accuracy: 0.5720\n",
            "Epoch 2/10\n",
            "352/352 [==============================] - 732s 2s/step - loss: 1.2066 - accuracy: 0.5698 - val_loss: 0.9763 - val_accuracy: 0.6536\n",
            "Epoch 3/10\n",
            "352/352 [==============================] - 727s 2s/step - loss: 1.0203 - accuracy: 0.6391 - val_loss: 0.8957 - val_accuracy: 0.6848\n",
            "Epoch 4/10\n",
            "352/352 [==============================] - 728s 2s/step - loss: 0.9049 - accuracy: 0.6820 - val_loss: 0.8268 - val_accuracy: 0.7100\n",
            "Epoch 5/10\n",
            "352/352 [==============================] - 731s 2s/step - loss: 0.8047 - accuracy: 0.7167 - val_loss: 0.8354 - val_accuracy: 0.7110\n",
            "Epoch 6/10\n",
            "352/352 [==============================] - 737s 2s/step - loss: 0.7203 - accuracy: 0.7435 - val_loss: 0.8057 - val_accuracy: 0.7232\n",
            "Epoch 7/10\n",
            "352/352 [==============================] - 745s 2s/step - loss: 0.6512 - accuracy: 0.7690 - val_loss: 0.7915 - val_accuracy: 0.7350\n",
            "Epoch 8/10\n",
            "352/352 [==============================] - 749s 2s/step - loss: 0.5755 - accuracy: 0.7947 - val_loss: 0.8149 - val_accuracy: 0.7360\n",
            "Epoch 9/10\n",
            "352/352 [==============================] - 737s 2s/step - loss: 0.5234 - accuracy: 0.8122 - val_loss: 0.8185 - val_accuracy: 0.7330\n",
            "Epoch 10/10\n",
            "352/352 [==============================] - 730s 2s/step - loss: 0.4714 - accuracy: 0.8300 - val_loss: 0.8475 - val_accuracy: 0.7390\n"
          ]
        },
        {
          "data": {
            "text/plain": [
              "<keras.callbacks.History at 0x7fadf47d3b20>"
            ]
          },
          "execution_count": 12,
          "metadata": {},
          "output_type": "execute_result"
        }
      ],
      "source": [
        "model.fit(x_train, y_train, batch_size=128, epochs=10, validation_split=0.1)"
      ]
    },
    {
      "cell_type": "code",
      "source": [
        "score = model.evaluate(x_test, y_test, batch_size=128)\n",
        "print(\"Test accuracy:\", score[1])"
      ],
      "metadata": {
        "colab": {
          "base_uri": "https://localhost:8080/"
        },
        "id": "_4rbEa_l9Ly1",
        "outputId": "f693d37b-ce65-4cdc-db8c-d3266614a3f7"
      },
      "execution_count": 13,
      "outputs": [
        {
          "output_type": "stream",
          "name": "stdout",
          "text": [
            "79/79 [==============================] - 41s 514ms/step - loss: 0.8832 - accuracy: 0.7221\n",
            "Test accuracy: 0.722100019454956\n"
          ]
        }
      ]
    },
    {
      "cell_type": "code",
      "source": [
        "model.evaluate(x_test,y_test)"
      ],
      "metadata": {
        "colab": {
          "base_uri": "https://localhost:8080/"
        },
        "id": "6Q5f9a5g9Mk2",
        "outputId": "98b85603-254c-4ec0-810a-5964c9e57cd2"
      },
      "execution_count": 17,
      "outputs": [
        {
          "output_type": "stream",
          "name": "stdout",
          "text": [
            "313/313 [==============================] - 41s 131ms/step - loss: 0.8832 - accuracy: 0.7221\n"
          ]
        },
        {
          "output_type": "execute_result",
          "data": {
            "text/plain": [
              "[0.8831713795661926, 0.722100019454956]"
            ]
          },
          "metadata": {},
          "execution_count": 17
        }
      ]
    },
    {
      "cell_type": "code",
      "source": [
        "y_pred = model.predict(x_test)\n",
        "y_pred[:5]"
      ],
      "metadata": {
        "colab": {
          "base_uri": "https://localhost:8080/"
        },
        "id": "tW4L6gbf94ld",
        "outputId": "f1183eec-aea8-4a8b-8ca3-2887a941f809"
      },
      "execution_count": 18,
      "outputs": [
        {
          "output_type": "stream",
          "name": "stdout",
          "text": [
            "313/313 [==============================] - 41s 131ms/step\n"
          ]
        },
        {
          "output_type": "execute_result",
          "data": {
            "text/plain": [
              "array([[4.68347098e-05, 2.30962783e-07, 6.96045230e-04, 9.43019986e-01,\n",
              "        1.09332514e-05, 5.25905192e-02, 3.60313011e-03, 9.17690704e-06,\n",
              "        2.01549428e-05, 2.86846466e-06],\n",
              "       [1.00402922e-05, 1.16052050e-02, 1.09979820e-12, 6.49319010e-12,\n",
              "        2.90803140e-15, 2.37736250e-15, 1.87768803e-15, 5.19952446e-19,\n",
              "        9.88381803e-01, 2.89177797e-06],\n",
              "       [1.39522254e-01, 4.43981960e-02, 3.26634152e-04, 1.81271683e-03,\n",
              "        1.26029435e-03, 1.11476065e-05, 1.09555585e-05, 2.19429967e-05,\n",
              "        8.00670624e-01, 1.19651472e-02],\n",
              "       [9.84529674e-01, 1.11811212e-03, 2.18902685e-04, 1.35752396e-06,\n",
              "        1.59567426e-05, 2.26213714e-08, 1.10776469e-07, 3.84595609e-08,\n",
              "        1.40169282e-02, 9.89024120e-05],\n",
              "       [1.53741499e-11, 1.07309728e-09, 1.85625616e-03, 1.57189414e-01,\n",
              "        9.69373658e-02, 5.95424608e-05, 7.43957281e-01, 7.62318542e-10,\n",
              "        1.78472639e-10, 4.22184815e-10]], dtype=float32)"
            ]
          },
          "metadata": {},
          "execution_count": 18
        }
      ]
    },
    {
      "cell_type": "code",
      "source": [
        "import numpy as np\n",
        "y_class = [np.argmax(element) for element in y_pred]\n",
        "y_class[:5]"
      ],
      "metadata": {
        "colab": {
          "base_uri": "https://localhost:8080/"
        },
        "id": "TqL5XPHj-yis",
        "outputId": "3c0446d4-06e6-43a0-e836-67e42d55ed66"
      },
      "execution_count": 20,
      "outputs": [
        {
          "output_type": "execute_result",
          "data": {
            "text/plain": [
              "[3, 8, 8, 0, 6]"
            ]
          },
          "metadata": {},
          "execution_count": 20
        }
      ]
    },
    {
      "cell_type": "code",
      "source": [
        "y_test[:5]"
      ],
      "metadata": {
        "colab": {
          "base_uri": "https://localhost:8080/"
        },
        "id": "e5h-Ze56_LYW",
        "outputId": "8347b913-f5fb-46f5-a1ba-eb080a840c24"
      },
      "execution_count": 21,
      "outputs": [
        {
          "output_type": "execute_result",
          "data": {
            "text/plain": [
              "array([[3],\n",
              "       [8],\n",
              "       [8],\n",
              "       [0],\n",
              "       [6]], dtype=uint8)"
            ]
          },
          "metadata": {},
          "execution_count": 21
        }
      ]
    },
    {
      "cell_type": "code",
      "source": [
        "\n",
        "y_test = y_test.reshape(-1,)\n",
        "classes = [\"airplane\",\"automobile\",\"bird\",\"cat\",\"deer\",\"dog\",\"frog\",\"horse\",\"ship\",\"truck\"]\n",
        "def plot_sample(X, y, index):\n",
        "    plt.figure(figsize = (15,2))\n",
        "    plt.imshow(X[index])\n",
        "    plt.xlabel(classes[y[index]])\n",
        "    "
      ],
      "metadata": {
        "id": "Cn5TsrQl_PU6"
      },
      "execution_count": 36,
      "outputs": []
    },
    {
      "cell_type": "code",
      "source": [
        "plot_sample(x_test, y_test,6)"
      ],
      "metadata": {
        "colab": {
          "base_uri": "https://localhost:8080/",
          "height": 237
        },
        "id": "CN2QQ3r__R2Y",
        "outputId": "ca2faf90-d83a-4495-f42a-c7ceb213dbb7"
      },
      "execution_count": 38,
      "outputs": [
        {
          "output_type": "display_data",
          "data": {
            "text/plain": [
              "<Figure size 1500x200 with 1 Axes>"
            ],
            "image/png": "[encoded data removed]"
          },
          "metadata": {}
        }
      ]
    },
    {
      "cell_type": "code",
      "source": [
        "classes[y_class[6]]"
      ],
      "metadata": {
        "colab": {
          "base_uri": "https://localhost:8080/",
          "height": 35
        },
        "id": "xnYojd5z_nHV",
        "outputId": "cd0fa211-3678-4998-d785-5978f6de1397"
      },
      "execution_count": 40,
      "outputs": [
        {
          "output_type": "execute_result",
          "data": {
            "text/plain": [
              "'automobile'"
            ],
            "application/vnd.google.colaboratory.intrinsic+json": {
              "type": "string"
            }
          },
          "metadata": {},
          "execution_count": 40
        }
      ]
    },
    {
      "cell_type": "code",
      "source": [
        "plot_sample(x_test, y_test,2)"
      ],
      "metadata": {
        "colab": {
          "base_uri": "https://localhost:8080/",
          "height": 237
        },
        "id": "wSpZz6SIAZau",
        "outputId": "b5917721-2f1a-4cb2-ff5b-5b6e05794456"
      },
      "execution_count": 41,
      "outputs": [
        {
          "output_type": "display_data",
          "data": {
            "text/plain": [
              "<Figure size 1500x200 with 1 Axes>"
            ],
            "image/png": "[encoded data removed]"
          },
          "metadata": {}
        }
      ]
    },
    {
      "cell_type": "code",
      "source": [
        "classes[y_class[2]]"
      ],
      "metadata": {
        "colab": {
          "base_uri": "https://localhost:8080/",
          "height": 35
        },
        "id": "KXuo1CT4AibB",
        "outputId": "db75c988-e6e2-4951-f644-fa1deb9d20f2"
      },
      "execution_count": 42,
      "outputs": [
        {
          "output_type": "execute_result",
          "data": {
            "text/plain": [
              "'ship'"
            ],
            "application/vnd.google.colaboratory.intrinsic+json": {
              "type": "string"
            }
          },
          "metadata": {},
          "execution_count": 42
        }
      ]
    },
    {
      "cell_type": "code",
      "source": [
        "plot_sample(x_test, y_test,8)"
      ],
      "metadata": {
        "colab": {
          "base_uri": "https://localhost:8080/",
          "height": 237
        },
        "id": "9TzLP8vtAlNI",
        "outputId": "6e699b9f-c894-4103-d89b-25e9aa355e10"
      },
      "execution_count": 43,
      "outputs": [
        {
          "output_type": "display_data",
          "data": {
            "text/plain": [
              "<Figure size 1500x200 with 1 Axes>"
            ],
            "image/png": "[encoded data removed]"
          },
          "metadata": {}
        }
      ]
    },
    {
      "cell_type": "code",
      "source": [
        "classes[y_class[8]]"
      ],
      "metadata": {
        "colab": {
          "base_uri": "https://localhost:8080/",
          "height": 35
        },
        "id": "YQbEuKv7AoBC",
        "outputId": "a7dd2b31-a9f6-4687-8d89-025677ac278e"
      },
      "execution_count": 44,
      "outputs": [
        {
          "output_type": "execute_result",
          "data": {
            "text/plain": [
              "'cat'"
            ],
            "application/vnd.google.colaboratory.intrinsic+json": {
              "type": "string"
            }
          },
          "metadata": {},
          "execution_count": 44
        }
      ]
    },
    {
      "cell_type": "code",
      "source": [
        "from sklearn.metrics import classification_report\n",
        "print(\"Classification Report: \\n\", classification_report(y_test,y_class))"
      ],
      "metadata": {
        "colab": {
          "base_uri": "https://localhost:8080/"
        },
        "id": "K5N3y8oOAqj9",
        "outputId": "6418a008-bc38-418b-b66e-88b8caf64512"
      },
      "execution_count": 46,
      "outputs": [
        {
          "output_type": "stream",
          "name": "stdout",
          "text": [
            "Classification Report: \n",
            "               precision    recall  f1-score   support\n",
            "\n",
            "           0       0.78      0.74      0.76      1000\n",
            "           1       0.87      0.82      0.84      1000\n",
            "           2       0.61      0.53      0.57      1000\n",
            "           3       0.51      0.58      0.54      1000\n",
            "           4       0.66      0.69      0.68      1000\n",
            "           5       0.58      0.68      0.63      1000\n",
            "           6       0.79      0.77      0.78      1000\n",
            "           7       0.81      0.73      0.77      1000\n",
            "           8       0.83      0.85      0.84      1000\n",
            "           9       0.83      0.82      0.82      1000\n",
            "\n",
            "    accuracy                           0.72     10000\n",
            "   macro avg       0.73      0.72      0.72     10000\n",
            "weighted avg       0.73      0.72      0.72     10000\n",
            "\n"
          ]
        }
      ]
    },
    {
      "cell_type": "code",
      "source": [],
      "metadata": {
        "id": "Wn4uv2VfAu_q"
      },
      "execution_count": null,
      "outputs": []
    }
  ],
  "metadata": {
    "colab": {
      "provenance": []
    },
    "kernelspec": {
      "display_name": "Python 3",
      "name": "python3"
    },
    "language_info": {
      "name": "python"
    }
  },
  "nbformat": 4,
  "nbformat_minor": 0
}